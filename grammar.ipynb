{
 "cells": [
  {
   "cell_type": "code",
   "execution_count": 1,
   "metadata": {},
   "outputs": [],
   "source": [
    "import re\n",
    "import string\n",
    "from collections import Counter"
   ]
  },
  {
   "cell_type": "code",
   "execution_count": 2,
   "metadata": {},
   "outputs": [],
   "source": [
    "def words(text): return re.findall(r'\\w+', text.lower())"
   ]
  },
  {
   "cell_type": "code",
   "execution_count": 13,
   "metadata": {},
   "outputs": [],
   "source": [
    "palavras = words(open('text.txt', encoding = 'utf-8').read())\n",
    "WORDS = Counter(palavras)"
   ]
  },
  {
   "cell_type": "code",
   "execution_count": 14,
   "metadata": {},
   "outputs": [
    {
     "data": {
      "text/plain": [
       "<bound method Counter.most_common of Counter({'de': 6, 'que': 6, 'a': 4, 'para': 4, 'é': 4, 'e': 4, 'com': 3, 'time': 3, 'data': 3, 'o': 3, 'um': 3, 'ser': 3, 'em': 2, 'do': 2, 'candidatos': 2, 'dados': 2, 'verdadeiro': 2, 'recentemente': 1, 'conversas': 1, 'bárbara': 1, 'barbosa': 1, 'líder': 1, 'science': 1, 'da': 1, 'creditas': 1, 'comentei': 1, 'ela': 1, 'dificuldade': 1, 'estava': 1, 'tendo': 1, 'encontrar': 1, 'bons': 1, 'engineering': 1, 'área': 1, 'bastante': 1, 'concorrida': 1, 'não': 1, 'muita': 1, 'experiência': 1, 'salários': 1, 'muito': 1, 'altos': 1, 'formam': 1, 'cenário': 1, 'pra': 1, 'completar': 1, 'aqueles': 1, 'fato': 1, 'eram': 1, 'boas': 1, 'opções': 1, 'integrar': 1, 'nosso': 1, 'estão': 1, 'buscando': 1, 'mesmo': 1, 'se': 1, 'tornar': 1, 'scientist': 1, 'desde': 1, 'então': 1, 'toda': 1, 'vez': 1, 'falo': 1, 'sobre': 1, 'assunto': 1, 'eu': 1, 'repito': 1, 'pois': 1, 'mas': 1, 'verdade': 1, 'talento': 1, 'ciência': 1, 'você': 1, 'precisa': 1, 'aquele': 1, 'fantástico': 1, 'todo': 1, 'mundo': 1, 'já': 1, 'ouviu': 1, 'falar': 1, 'uma': 1, 'pessoa': 1, 'tem': 1, 'hacking': 1, 'skills': 1, 'conhecimento': 1, 'matemática': 1, 'estatística': 1, 'domínio': 1, 'negócio': 1, 'unicórnio': 1})>"
      ]
     },
     "execution_count": 14,
     "metadata": {},
     "output_type": "execute_result"
    }
   ],
   "source": [
    "WORDS.most_common"
   ]
  },
  {
   "cell_type": "code",
   "execution_count": 5,
   "metadata": {},
   "outputs": [],
   "source": [
    "def P(word, N=sum(WORDS.values())): \n",
    "    \"Probability of `word`.\"\n",
    "    print('\\nP: ',(WORDS[word] / N))\n",
    "    return WORDS[word] / N"
   ]
  },
  {
   "cell_type": "code",
   "execution_count": 15,
   "metadata": {},
   "outputs": [],
   "source": [
    "def correction(word): \n",
    "    #import pdb; pdb.set_trace()\n",
    "    \"Most probable spelling correction for word.\"\n",
    "    return max(candidates(word), key=P)"
   ]
  },
  {
   "cell_type": "code",
   "execution_count": 7,
   "metadata": {},
   "outputs": [],
   "source": [
    "def candidates(word): \n",
    "    \"Generate possible spelling corrections for word.\"\n",
    "    return (known([word]) or known(edits1(word)) or known(edits2(word)) or [word])"
   ]
  },
  {
   "cell_type": "code",
   "execution_count": 8,
   "metadata": {},
   "outputs": [],
   "source": [
    "def known(words): \n",
    "    \"The subset of `words` that appear in the dictionary of WORDS.\"\n",
    "    #print('\\nknow: ',set(w for w in words if w in WORDS))\n",
    "    return set(w for w in words if w in WORDS)"
   ]
  },
  {
   "cell_type": "code",
   "execution_count": 9,
   "metadata": {},
   "outputs": [],
   "source": [
    "def edits1(word):\n",
    "    \"All edits that are one edit away from `word`.\"\n",
    "    letters    = 'abcdefghijklmnopqrstuvwxyz'\n",
    "    splits     = [(word[:i], word[i:])    for i in range(len(word) + 1)]\n",
    "    deletes    = [L + R[1:]               for L, R in splits if R]\n",
    "    transposes = [L + R[1] + R[0] + R[2:] for L, R in splits if len(R)>1]\n",
    "    replaces   = [L + c + R[1:]           for L, R in splits if R for c in letters]\n",
    "    inserts    = [L + c + R               for L, R in splits for c in letters]\n",
    "    #print ('\\nedits1: ', set(deletes + transposes + replaces + inserts))\n",
    "    return set(deletes + transposes + replaces + inserts)\n"
   ]
  },
  {
   "cell_type": "code",
   "execution_count": 10,
   "metadata": {},
   "outputs": [],
   "source": [
    "def edits2(word): \n",
    "    \"All edits that are two edits away from `word`.\"\n",
    "    return (e2 for e1 in edits1(word) for e2 in edits1(e1))"
   ]
  },
  {
   "cell_type": "code",
   "execution_count": 16,
   "metadata": {},
   "outputs": [
    {
     "name": "stdout",
     "output_type": "stream",
     "text": [
      "\n",
      "P:  0.006896551724137931\n",
      "pra\n"
     ]
    }
   ],
   "source": [
    "print(correction('pra'))"
   ]
  },
  {
   "cell_type": "code",
   "execution_count": null,
   "metadata": {},
   "outputs": [],
   "source": []
  }
 ],
 "metadata": {
  "kernelspec": {
   "display_name": "Python 3",
   "language": "python",
   "name": "python3"
  },
  "language_info": {
   "codemirror_mode": {
    "name": "ipython",
    "version": 3
   },
   "file_extension": ".py",
   "mimetype": "text/x-python",
   "name": "python",
   "nbconvert_exporter": "python",
   "pygments_lexer": "ipython3",
   "version": "3.6.4"
  }
 },
 "nbformat": 4,
 "nbformat_minor": 2
}
