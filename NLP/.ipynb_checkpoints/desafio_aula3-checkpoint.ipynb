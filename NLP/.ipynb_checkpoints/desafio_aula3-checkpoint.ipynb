{
 "cells": [
  {
   "cell_type": "markdown",
   "metadata": {},
   "source": [
    "# Desafio - Aula 3"
   ]
  },
  {
   "cell_type": "markdown",
   "metadata": {},
   "source": [
    "## 1) Crie uma classe de tratamento de texto. A classe deverá conter:\n",
    "   ## -> remoção de números\n",
    "   ## -> passar o texto para caixa baixa\n",
    "   ## -> remoção de caracteres especiais\n",
    "   ## -> remoção de stop-words\n",
    "   ## -> Stemização/lemmatização (deve ser passado como parâmetro qual abordagem utilizar)"
   ]
  },
  {
   "cell_type": "code",
   "execution_count": null,
   "metadata": {},
   "outputs": [],
   "source": [
    "!pip install spacy\n",
    "!python -m spacy download pt_core_news_sm\n",
    "!python -m spacy download en"
   ]
  },
  {
   "cell_type": "code",
   "execution_count": null,
   "metadata": {},
   "outputs": [],
   "source": [
    "import re\n",
    "import nltk\n",
    "import spacy\n",
    "import nltk\n",
    "from nltk.stem import PorterStemmer\n",
    "import pandas as pd\n",
    "from nltk.stem.rslp import RSLPStemmer\n",
    "\n",
    "STEM = \"Stemizacao\"\n",
    "LEM = \"Lammatizacao\"\n",
    "    \n",
    "class Clean_Text:\n",
    "    \n",
    "    def __init__(self, lan = 'english', load_v = None, clean_regex = \"([aA-zZ]+)\", stemmer = PorterStemmer()):\n",
    "        nltk.download('stopwords')\n",
    "        self.regex = clean_regex\n",
    "        self.stops = nltk.corpus.stopwords.words(lan)\n",
    "        if load_v == None:\n",
    "            if lan == \"english\":\n",
    "                self.nlp = spacy.load('en')\n",
    "            elif lan == \"portuguese\":\n",
    "                self.nlp = spacy.load('pt_core_news_sm')\n",
    "            else:\n",
    "                raise(\"idioma invalido\")\n",
    "        else:\n",
    "            self.nlp = spacy.load(load_v)\n",
    "        self.ps = stemmer\n",
    "        \n",
    "    def clean(self, df, norm = None, stops = None):\n",
    "        if (norm != STEM) and (norm != LEM) and (norm != None):\n",
    "            raise(\"Normalizacao invalida\")\n",
    "        \n",
    "        if stops != None:\n",
    "            self.stops = stops\n",
    "            \n",
    "        return df.apply(self.remove_special_char).apply(lambda x: self.remove_stop_words(x, self.stops)).apply(lambda x: self.normalize(x, norm))\n",
    "        \n",
    "    def remove_special_char(self, text):\n",
    "        return \" \".join([\"\".join(re.findall(self.regex, word)).lower() for word in text.split(\" \")])\n",
    "    \n",
    "    def remove_stop_words(self, text, stops):\n",
    "        if stops != None:\n",
    "            return \" \".join([word if word not in self.stops else \"\" for word in text.split(\" \")])\n",
    "        else:\n",
    "            return text\n",
    "        \n",
    "    def normalize(self, text, norm):\n",
    "        if norm == LEM:\n",
    "            doc = self.nlp(text)\n",
    "            return \" \".join([token.lemma_ for token in doc])\n",
    "        elif norm == STEM:\n",
    "            \n",
    "            return \" \".join([self.ps.stem(word) for word in text.split(\" \")])\n",
    "        else:\n",
    "            return text\n",
    "                \n",
    "d = {\"a\": [\"I World1!.@ é223 dogs daspd% did conected\", \"hell0o world!\"]}\n",
    "df = pd.DataFrame(d)\n",
    "clean_text = Clean_Text(lan = \"chi\")\n",
    "clean_text.clean(df['a'], STEM)"
   ]
  },
  {
   "cell_type": "code",
   "execution_count": 2,
   "metadata": {},
   "outputs": [
    {
     "data": {
      "text/plain": [
       "['quebrar', 'quebrar', 'quebrar', 'quebrar']"
      ]
     },
     "execution_count": 2,
     "metadata": {},
     "output_type": "execute_result"
    }
   ],
   "source": [
    "nlp = spacy.load('pt_core_news_sm')\n",
    "doc = nlp(u'quebrou,quebraram,quebrado,quebrariam')\n",
    "[token.lemma_ for token in doc if token.pos_ == 'VERB']"
   ]
  },
  {
   "cell_type": "markdown",
   "metadata": {},
   "source": [
    "## 2) Refaça o exercício de aula (movie_review) realizando o tratamento do texto antes. Houve diferença? Descreva"
   ]
  },
  {
   "cell_type": "code",
   "execution_count": null,
   "metadata": {},
   "outputs": [],
   "source": [
    "# resposta 2"
   ]
  },
  {
   "cell_type": "markdown",
   "metadata": {},
   "source": [
    "## 3) Utilizando o dataset disposto no portal, faça:\n",
    "   ## -> extraia o dataset na pasta do notebook\n",
    "   ## -> crie uma função que leia o conteúdo de cada uma das pastas, amazene num dataframe com duas colunas (review, tag)\n",
    "   ## -> utilize a classe de tratamento de texto criada acima para tratar o texto\n",
    "   ## -> crie um pipeline de classificação de texto (countvectorizer/tfidfvectorizer,divisão em treino/teste,instância de modelo, fit e predict)\n",
    "   ## -> imprima o relatório de classificação\n",
    "   ## -> OBS: teste várias opções de stemming/lemmatizer"
   ]
  },
  {
   "cell_type": "code",
   "execution_count": null,
   "metadata": {},
   "outputs": [],
   "source": [
    "# resposta 3"
   ]
  }
 ],
 "metadata": {
  "kernelspec": {
   "display_name": "Python 3",
   "language": "python",
   "name": "python3"
  },
  "language_info": {
   "codemirror_mode": {
    "name": "ipython",
    "version": 3
   },
   "file_extension": ".py",
   "mimetype": "text/x-python",
   "name": "python",
   "nbconvert_exporter": "python",
   "pygments_lexer": "ipython3",
   "version": "3.6.4"
  }
 },
 "nbformat": 4,
 "nbformat_minor": 2
}
