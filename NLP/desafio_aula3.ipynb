{
 "cells": [
  {
   "cell_type": "markdown",
   "metadata": {},
   "source": [
    "# Desafio - Aula 3"
   ]
  },
  {
   "cell_type": "markdown",
   "metadata": {},
   "source": [
    "## 1) Crie uma classe de tratamento de texto. A classe deverá conter:\n",
    "   ## -> remoção de números\n",
    "   ## -> passar o texto para caixa baixa\n",
    "   ## -> remoção de caracteres especiais\n",
    "   ## -> remoção de stop-words\n",
    "   ## -> Stemização/lemmatização (deve ser passado como parâmetro qual abordagem utilizar)"
   ]
  },
  {
   "cell_type": "code",
   "execution_count": 1,
   "metadata": {},
   "outputs": [
    {
     "name": "stdout",
     "output_type": "stream",
     "text": [
      "Collecting spacy\n",
      "  Downloading https://files.pythonhosted.org/packages/4c/f6/e146ea31f994581a31bd50331dbfc005becef1003b54619edfc22ab2517b/spacy-2.1.3-cp36-cp36m-win_amd64.whl (26.9MB)\n",
      "Collecting preshed<2.1.0,>=2.0.1 (from spacy)\n",
      "  Downloading https://files.pythonhosted.org/packages/a6/c0/3c238c146ed72f92a1cc3771fa3f66091b80d2a8e15b7c987912443b7843/preshed-2.0.1-cp36-cp36m-win_amd64.whl (73kB)\n",
      "Collecting thinc<7.1.0,>=7.0.2 (from spacy)\n",
      "  Downloading https://files.pythonhosted.org/packages/12/b0/2c6c0f0edd87a3a4ac039bec792a61603233901a6df53e976d746eb86d04/thinc-7.0.4-cp36-cp36m-win_amd64.whl (1.9MB)\n",
      "Collecting cymem<2.1.0,>=2.0.2 (from spacy)\n",
      "  Downloading https://files.pythonhosted.org/packages/c2/93/4b543adf6c0d73ed4e05d92abfb644c2743cd656adc8058510fdfac80680/cymem-2.0.2-cp36-cp36m-win_amd64.whl\n",
      "Collecting blis<0.3.0,>=0.2.2 (from spacy)\n",
      "  Downloading https://files.pythonhosted.org/packages/84/0e/35f8ce00fc3412aa3a888a3d8e040c4c65ccbad8310aa2981d3e6f379867/blis-0.2.4-cp36-cp36m-win_amd64.whl (3.1MB)\n",
      "Requirement already satisfied: requests<3.0.0,>=2.13.0 in c:\\anaconda3\\lib\\site-packages (from spacy) (2.18.4)\n",
      "Collecting plac<1.0.0,>=0.9.6 (from spacy)\n",
      "  Downloading https://files.pythonhosted.org/packages/9e/9b/62c60d2f5bc135d2aa1d8c8a86aaf84edb719a59c7f11a4316259e61a298/plac-0.9.6-py2.py3-none-any.whl\n",
      "Collecting srsly<1.1.0,>=0.0.5 (from spacy)\n",
      "  Downloading https://files.pythonhosted.org/packages/8b/d8/dd8cd2a1620d5ebbc808cd3937e498ce63a58c2207366edba196df093032/srsly-0.0.5-cp36-cp36m-win_amd64.whl (170kB)\n",
      "Collecting murmurhash<1.1.0,>=0.28.0 (from spacy)\n",
      "  Downloading https://files.pythonhosted.org/packages/15/8f/0dad3ca706e31258cf7b9adf40f8d2103444a09dd7d66d46cf6980025c65/murmurhash-1.0.2-cp36-cp36m-win_amd64.whl\n",
      "Collecting wasabi<1.1.0,>=0.2.0 (from spacy)\n",
      "  Downloading https://files.pythonhosted.org/packages/76/6c/0376977df1ba9f0ec27835d80456d9284c79737cb5205649451db1181f01/wasabi-0.2.1-py3-none-any.whl\n",
      "Requirement already satisfied: jsonschema<3.0.0,>=2.6.0 in c:\\anaconda3\\lib\\site-packages (from spacy) (2.6.0)\n",
      "Collecting numpy>=1.15.0 (from spacy)\n",
      "  Downloading https://files.pythonhosted.org/packages/ed/29/d97b6252591da5f8add0d25eecda296ea72729a0aad7998edba1981b47c8/numpy-1.16.2-cp36-cp36m-win_amd64.whl (11.9MB)\n",
      "Collecting tqdm<5.0.0,>=4.10.0 (from thinc<7.1.0,>=7.0.2->spacy)\n",
      "  Downloading https://files.pythonhosted.org/packages/6c/4b/c38b5144cf167c4f52288517436ccafefe9dc01b8d1c190e18a6b154cd4a/tqdm-4.31.1-py2.py3-none-any.whl (48kB)\n",
      "Requirement already satisfied: chardet<3.1.0,>=3.0.2 in c:\\anaconda3\\lib\\site-packages (from requests<3.0.0,>=2.13.0->spacy) (3.0.4)\n",
      "Requirement already satisfied: idna<2.7,>=2.5 in c:\\anaconda3\\lib\\site-packages (from requests<3.0.0,>=2.13.0->spacy) (2.6)\n",
      "Requirement already satisfied: urllib3<1.23,>=1.21.1 in c:\\anaconda3\\lib\\site-packages (from requests<3.0.0,>=2.13.0->spacy) (1.22)\n",
      "Requirement already satisfied: certifi>=2017.4.17 in c:\\anaconda3\\lib\\site-packages (from requests<3.0.0,>=2.13.0->spacy) (2018.8.13)\n",
      "Installing collected packages: cymem, preshed, numpy, plac, tqdm, blis, srsly, murmurhash, wasabi, thinc, spacy\n",
      "  Found existing installation: numpy 1.14.0\n",
      "    Uninstalling numpy-1.14.0:\n",
      "      Successfully uninstalled numpy-1.14.0\n"
     ]
    },
    {
     "name": "stderr",
     "output_type": "stream",
     "text": [
      "Could not install packages due to an EnvironmentError: [WinError 5] Acesso negado: 'C:\\\\Users\\\\Andre\\\\AppData\\\\Local\\\\Temp\\\\pip-uninstall-4bccdcbq\\\\anaconda3\\\\lib\\\\site-packages\\\\numpy\\\\core\\\\multiarray.cp36-win_amd64.pyd'\n",
      "Consider using the `--user` option or check the permissions.\n",
      "\n",
      "You are using pip version 18.1, however version 19.0.3 is available.\n",
      "You should consider upgrading via the 'python -m pip install --upgrade pip' command.\n",
      "C:\\Anaconda3\\python.exe: No module named spacy\n",
      "C:\\Anaconda3\\python.exe: No module named spacy\n"
     ]
    }
   ],
   "source": [
    "!pip install spacy\n",
    "!python -m spacy download pt_core_news_sm\n",
    "!python -m spacy download en"
   ]
  },
  {
   "cell_type": "code",
   "execution_count": 2,
   "metadata": {},
   "outputs": [
    {
     "ename": "ModuleNotFoundError",
     "evalue": "No module named 'spacy'",
     "output_type": "error",
     "traceback": [
      "\u001b[1;31m---------------------------------------------------------------------------\u001b[0m",
      "\u001b[1;31mModuleNotFoundError\u001b[0m                       Traceback (most recent call last)",
      "\u001b[1;32m<ipython-input-2-0764496bf822>\u001b[0m in \u001b[0;36m<module>\u001b[1;34m()\u001b[0m\n\u001b[0;32m      1\u001b[0m \u001b[1;32mimport\u001b[0m \u001b[0mre\u001b[0m\u001b[1;33m\u001b[0m\u001b[0m\n\u001b[0;32m      2\u001b[0m \u001b[1;32mimport\u001b[0m \u001b[0mnltk\u001b[0m\u001b[1;33m\u001b[0m\u001b[0m\n\u001b[1;32m----> 3\u001b[1;33m \u001b[1;32mimport\u001b[0m \u001b[0mspacy\u001b[0m\u001b[1;33m\u001b[0m\u001b[0m\n\u001b[0m\u001b[0;32m      4\u001b[0m \u001b[1;32mimport\u001b[0m \u001b[0mnltk\u001b[0m\u001b[1;33m\u001b[0m\u001b[0m\n\u001b[0;32m      5\u001b[0m \u001b[1;32mfrom\u001b[0m \u001b[0mnltk\u001b[0m\u001b[1;33m.\u001b[0m\u001b[0mstem\u001b[0m \u001b[1;32mimport\u001b[0m \u001b[0mPorterStemmer\u001b[0m\u001b[1;33m\u001b[0m\u001b[0m\n",
      "\u001b[1;31mModuleNotFoundError\u001b[0m: No module named 'spacy'"
     ]
    }
   ],
   "source": [
    "import re\n",
    "import nltk\n",
    "import spacy\n",
    "import nltk\n",
    "from nltk.stem import PorterStemmer\n",
    "import pandas as pd\n",
    "from nltk.stem.rslp import RSLPStemmer\n",
    "\n",
    "STEM = \"Stemizacao\"\n",
    "LEM = \"Lammatizacao\"\n",
    "    \n",
    "class Clean_Text:\n",
    "    \n",
    "    def __init__(self, lan = 'english', load_v = None, clean_regex = \"([aA-zZ]+)\", stemmer = PorterStemmer()):\n",
    "        nltk.download('stopwords')\n",
    "        self.regex = clean_regex\n",
    "        self.stops = nltk.corpus.stopwords.words(lan)\n",
    "        if load_v == None:\n",
    "            if lan == \"english\":\n",
    "                self.nlp = spacy.load('en')\n",
    "            elif lan == \"portuguese\":\n",
    "                self.nlp = spacy.load('pt_core_news_sm')\n",
    "            else:\n",
    "                raise(\"idioma invalido\")\n",
    "        else:\n",
    "            self.nlp = spacy.load(load_v)\n",
    "        self.ps = stemmer\n",
    "        \n",
    "    def clean(self, df, norm = None, stops = None):\n",
    "        if (norm != STEM) and (norm != LEM) and (norm != None):\n",
    "            raise(\"Normalizacao invalida\")\n",
    "        \n",
    "        if stops != None:\n",
    "            self.stops = stops\n",
    "            \n",
    "        return df.apply(self.remove_special_char).apply(lambda x: self.remove_stop_words(x, self.stops)).apply(lambda x: self.normalize(x, norm))\n",
    "        \n",
    "    def remove_special_char(self, text):\n",
    "        return \" \".join([\"\".join(re.findall(self.regex, word)).lower() for word in text.split(\" \")])\n",
    "    \n",
    "    def remove_stop_words(self, text, stops):\n",
    "        if stops != None:\n",
    "            return \" \".join([word if word not in self.stops else \"\" for word in text.split(\" \")])\n",
    "        else:\n",
    "            return text\n",
    "        \n",
    "    def normalize(self, text, norm):\n",
    "        if norm == LEM:\n",
    "            doc = self.nlp(text)\n",
    "            return \" \".join([token.lemma_ for token in doc])\n",
    "        elif norm == STEM:\n",
    "            \n",
    "            return \" \".join([self.ps.stem(word) for word in text.split(\" \")])\n",
    "        else:\n",
    "            return text\n",
    "                \n",
    "d = {\"a\": [\"I World1!.@ é223 dogs daspd% did conected\", \"hell0o world!\"]}\n",
    "df = pd.DataFrame(d)\n",
    "clean_text = Clean_Text(lan = \"chi\")\n",
    "clean_text.clean(df['a'], STEM)"
   ]
  },
  {
   "cell_type": "code",
   "execution_count": 2,
   "metadata": {},
   "outputs": [
    {
     "data": {
      "text/plain": [
       "['quebrar', 'quebrar', 'quebrar', 'quebrar']"
      ]
     },
     "execution_count": 2,
     "metadata": {},
     "output_type": "execute_result"
    }
   ],
   "source": [
    "nlp = spacy.load('pt_core_news_sm')\n",
    "doc = nlp(u'quebrou,quebraram,quebrado,quebrariam')\n",
    "[token.lemma_ for token in doc if token.pos_ == 'VERB']"
   ]
  },
  {
   "cell_type": "markdown",
   "metadata": {},
   "source": [
    "## 2) Refaça o exercício de aula (movie_review) realizando o tratamento do texto antes. Houve diferença? Descreva"
   ]
  },
  {
   "cell_type": "code",
   "execution_count": null,
   "metadata": {},
   "outputs": [],
   "source": [
    "# resposta 2"
   ]
  },
  {
   "cell_type": "markdown",
   "metadata": {},
   "source": [
    "## 3) Utilizando o dataset disposto no portal, faça:\n",
    "   ## -> extraia o dataset na pasta do notebook\n",
    "   ## -> crie uma função que leia o conteúdo de cada uma das pastas, amazene num dataframe com duas colunas (review, tag)\n",
    "   ## -> utilize a classe de tratamento de texto criada acima para tratar o texto\n",
    "   ## -> crie um pipeline de classificação de texto (countvectorizer/tfidfvectorizer,divisão em treino/teste,instância de modelo, fit e predict)\n",
    "   ## -> imprima o relatório de classificação\n",
    "   ## -> OBS: teste várias opções de stemming/lemmatizer"
   ]
  },
  {
   "cell_type": "code",
   "execution_count": null,
   "metadata": {},
   "outputs": [],
   "source": [
    "# resposta 3"
   ]
  }
 ],
 "metadata": {
  "kernelspec": {
   "display_name": "Python 3",
   "language": "python",
   "name": "python3"
  },
  "language_info": {
   "codemirror_mode": {
    "name": "ipython",
    "version": 3
   },
   "file_extension": ".py",
   "mimetype": "text/x-python",
   "name": "python",
   "nbconvert_exporter": "python",
   "pygments_lexer": "ipython3",
   "version": "3.6.4"
  }
 },
 "nbformat": 4,
 "nbformat_minor": 2
}
