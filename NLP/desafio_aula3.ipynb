{
 "cells": [
  {
   "cell_type": "markdown",
   "metadata": {},
   "source": [
    "# Desafio - Aula 3"
   ]
  },
  {
   "cell_type": "markdown",
   "metadata": {},
   "source": [
    "## 1) Crie uma classe de tratamento de texto. A classe deverá conter:\n",
    "   ## -> remoção de números\n",
    "   ## -> passar o texto para caixa baixa\n",
    "   ## -> remoção de caracteres especiais\n",
    "   ## -> remoção de stop-words\n",
    "   ## -> Stemização/lemmatização (deve ser passado como parâmetro qual abordagem utilizar)"
   ]
  },
  {
   "cell_type": "code",
   "execution_count": 2,
   "metadata": {},
   "outputs": [
    {
     "name": "stdout",
     "output_type": "stream",
     "text": [
      "Requirement already satisfied: spacy in c:\\anaconda3\\lib\\site-packages (2.1.3)\n",
      "Requirement already satisfied: cymem<2.1.0,>=2.0.2 in c:\\anaconda3\\lib\\site-packages (from spacy) (2.0.2)\n",
      "Requirement already satisfied: requests<3.0.0,>=2.13.0 in c:\\anaconda3\\lib\\site-packages (from spacy) (2.18.4)\n",
      "Requirement already satisfied: plac<1.0.0,>=0.9.6 in c:\\anaconda3\\lib\\site-packages (from spacy) (0.9.6)\n",
      "Requirement already satisfied: blis<0.3.0,>=0.2.2 in c:\\anaconda3\\lib\\site-packages (from spacy) (0.2.4)\n",
      "Requirement already satisfied: preshed<2.1.0,>=2.0.1 in c:\\anaconda3\\lib\\site-packages (from spacy) (2.0.1)\n",
      "Requirement already satisfied: thinc<7.1.0,>=7.0.2 in c:\\anaconda3\\lib\\site-packages (from spacy) (7.0.4)\n",
      "Requirement already satisfied: jsonschema<3.0.0,>=2.6.0 in c:\\anaconda3\\lib\\site-packages (from spacy) (2.6.0)\n",
      "Requirement already satisfied: murmurhash<1.1.0,>=0.28.0 in c:\\anaconda3\\lib\\site-packages (from spacy) (1.0.2)\n",
      "Requirement already satisfied: numpy>=1.15.0 in c:\\anaconda3\\lib\\site-packages (from spacy) (1.16.2)\n",
      "Requirement already satisfied: srsly<1.1.0,>=0.0.5 in c:\\anaconda3\\lib\\site-packages (from spacy) (0.0.5)\n",
      "Requirement already satisfied: wasabi<1.1.0,>=0.2.0 in c:\\anaconda3\\lib\\site-packages (from spacy) (0.2.1)\n",
      "Requirement already satisfied: chardet<3.1.0,>=3.0.2 in c:\\anaconda3\\lib\\site-packages (from requests<3.0.0,>=2.13.0->spacy) (3.0.4)\n",
      "Requirement already satisfied: idna<2.7,>=2.5 in c:\\anaconda3\\lib\\site-packages (from requests<3.0.0,>=2.13.0->spacy) (2.6)\n",
      "Requirement already satisfied: urllib3<1.23,>=1.21.1 in c:\\anaconda3\\lib\\site-packages (from requests<3.0.0,>=2.13.0->spacy) (1.22)\n",
      "Requirement already satisfied: certifi>=2017.4.17 in c:\\anaconda3\\lib\\site-packages (from requests<3.0.0,>=2.13.0->spacy) (2018.8.13)\n",
      "Requirement already satisfied: tqdm<5.0.0,>=4.10.0 in c:\\anaconda3\\lib\\site-packages (from thinc<7.1.0,>=7.0.2->spacy) (4.31.1)\n"
     ]
    },
    {
     "name": "stderr",
     "output_type": "stream",
     "text": [
      "You are using pip version 18.1, however version 19.0.3 is available.\n",
      "You should consider upgrading via the 'python -m pip install --upgrade pip' command.\n"
     ]
    },
    {
     "name": "stdout",
     "output_type": "stream",
     "text": [
      "Requirement already satisfied: pt_core_news_sm==2.1.0 from https://github.com/explosion/spacy-models/releases/download/pt_core_news_sm-2.1.0/pt_core_news_sm-2.1.0.tar.gz#egg=pt_core_news_sm==2.1.0 in c:\\anaconda3\\lib\\site-packages (2.1.0)\n",
      "[+] Download and installation successful\n",
      "You can now load the model via spacy.load('pt_core_news_sm')\n",
      "Requirement already satisfied: en_core_web_sm==2.1.0 from https://github.com/explosion/spacy-models/releases/download/en_core_web_sm-2.1.0/en_core_web_sm-2.1.0.tar.gz#egg=en_core_web_sm==2.1.0 in c:\\anaconda3\\lib\\site-packages (2.1.0)\n",
      "[+] Download and installation successful\n",
      "You can now load the model via spacy.load('en_core_web_sm')\n",
      "[+] Linking successful\n",
      "C:\\Anaconda3\\lib\\site-packages\\en_core_web_sm -->\n",
      "C:\\Anaconda3\\lib\\site-packages\\spacy\\data\\en\n",
      "You can now load the model via spacy.load('en')\n"
     ]
    },
    {
     "name": "stderr",
     "output_type": "stream",
     "text": [
      "You are using pip version 18.1, however version 19.0.3 is available.\n",
      "You should consider upgrading via the 'python -m pip install --upgrade pip' command.\n",
      "Você não tem privilégios suficientes para realizar esta operação.\n"
     ]
    }
   ],
   "source": [
    "!pip install spacy\n",
    "!python -m spacy download pt_core_news_sm\n",
    "!python -m spacy download en"
   ]
  },
  {
   "cell_type": "code",
   "execution_count": 198,
   "metadata": {},
   "outputs": [
    {
     "data": {
      "text/plain": [
       "0    world dog go go go daspd conecte\n",
       "1                         hello world\n",
       "Name: a, dtype: object"
      ]
     },
     "execution_count": 198,
     "metadata": {},
     "output_type": "execute_result"
    }
   ],
   "source": [
    "import re\n",
    "import nltk\n",
    "import spacy\n",
    "import nltk\n",
    "from nltk.stem import PorterStemmer\n",
    "import pandas as pd\n",
    "from nltk.stem.rslp import RSLPStemmer\n",
    "import re\n",
    "\n",
    "STEM = \"Stemizacao\"\n",
    "LEM = \"Lemmatizacao\"\n",
    "    \n",
    "class CleanText:\n",
    "    \n",
    "    def __init__(self, lan = 'english', norm = None, load_v = None, clean_regex = \"([aA-zZ]+)\", stemmer = RSLPStemmer()):\n",
    "        nltk.download('stopwords', quiet = True)\n",
    "        self.regex = clean_regex\n",
    "        self.stops = nltk.corpus.stopwords.words(lan)\n",
    "        \n",
    "        if load_v == None:\n",
    "            if lan == \"english\":\n",
    "                self.nlp = spacy.load('en')\n",
    "            elif lan == \"portuguese\":\n",
    "                self.nlp = spacy.load('pt_core_news_sm')\n",
    "            else:\n",
    "                raise(\"idioma invalido\")\n",
    "        else:\n",
    "            self.nlp = spacy.load(load_v)\n",
    "        self.ps = stemmer\n",
    "        \n",
    "        if (norm != STEM) and (norm != LEM) and (norm != None):\n",
    "            raise(\"Normalizacao invalida\")\n",
    "        self.norm = norm\n",
    "        \n",
    "    def clean(self, df, stops = None):\n",
    "        if stops != None:\n",
    "            self.stops = stops\n",
    "            \n",
    "        return df.apply(self.remove_special_char).apply(lambda x: self.remove_stop_words(x, self.stops)).apply(self.normalize)\n",
    "        \n",
    "    def remove_special_char(self, text):\n",
    "        return \" \".join([\"\".join(re.findall(self.regex, word)).lower() for word in text.split(\" \")])\n",
    "    \n",
    "    def remove_stop_words(self, text, stops):\n",
    "        if stops != None:\n",
    "            return \" \".join([word if word not in self.stops else \"\" for word in text.split(\" \")])\n",
    "        else:\n",
    "            return text\n",
    "        \n",
    "    def normalize(self, text):\n",
    "        text = re.sub(' +', ' ', text)\n",
    "        text = re.sub('^ | $', '', text)\n",
    "        if len(text) > 0:\n",
    "            if self.norm == LEM:\n",
    "                doc = self.nlp(text)\n",
    "                return \" \".join([token.lemma_ for token in doc])\n",
    "            elif self.norm == STEM:\n",
    "                return \" \".join([self.ps.stem(word) for word in text.split(\" \")])\n",
    "        return text\n",
    "    \n",
    "d = {\"a\": [\"I World1!.@ é223 is dogs  went go goes daspd% did conected\", \"hell0o world!\"]}\n",
    "df = pd.DataFrame(d)\n",
    "clean_text = CleanText(norm = LEM, lan = \"english\")\n",
    "clean_text.clean(df['a'])"
   ]
  },
  {
   "cell_type": "markdown",
   "metadata": {},
   "source": [
    "## 2) Refaça o exercício de aula (movie_review) realizando o tratamento do texto antes. Houve diferença? Descreva"
   ]
  },
  {
   "cell_type": "code",
   "execution_count": 175,
   "metadata": {},
   "outputs": [],
   "source": [
    "import pandas as pd\n",
    "import numpy as np\n",
    "from sklearn.feature_extraction.text import TfidfVectorizer\n",
    "from sklearn.naive_bayes import MultinomialNB\n",
    "from sklearn.model_selection import train_test_split\n",
    "from sklearn import metrics \n",
    "from sklearn.metrics import classification_report\n",
    "from sklearn.metrics import confusion_matrix\n",
    "\n",
    "data = pd.read_csv('movie_review1.csv',index_col=0)"
   ]
  },
  {
   "cell_type": "code",
   "execution_count": 183,
   "metadata": {},
   "outputs": [
    {
     "name": "stdout",
     "output_type": "stream",
     "text": [
      "Antes: \n",
      "             precision    recall  f1-score   support\n",
      "\n",
      "          0       0.72      0.67      0.69      9561\n",
      "          1       0.70      0.74      0.72      9855\n",
      "\n",
      "avg / total       0.71      0.71      0.71     19416\n",
      "\n",
      "\n",
      "acc: 0.706737\n"
     ]
    }
   ],
   "source": [
    "vectfidf = TfidfVectorizer()\n",
    "vector = vectfidf.fit_transform(data['text'])\n",
    "X_train, X_test, y_train, y_test = train_test_split(vector, data['tag'], test_size=0.3, random_state=69)\n",
    "model = MultinomialNB().fit(X_train, y_train)\n",
    "predicted = model.predict(X_test)\n",
    "print(\"Antes: \")\n",
    "print(classification_report(y_test, predicted))\n",
    "print(\"\\nacc: %f\" % np.mean(predicted == y_test))"
   ]
  },
  {
   "cell_type": "code",
   "execution_count": 201,
   "metadata": {},
   "outputs": [
    {
     "name": "stdout",
     "output_type": "stream",
     "text": [
      "Depois: \n",
      "             precision    recall  f1-score   support\n",
      "\n",
      "          0       0.71      0.65      0.68      9561\n",
      "          1       0.69      0.74      0.72      9855\n",
      "\n",
      "avg / total       0.70      0.70      0.70     19416\n",
      "\n",
      "\n",
      "acc: 0.698754\n"
     ]
    }
   ],
   "source": [
    "vectfidf = TfidfVectorizer()\n",
    "data['text'] = CleanText().clean(data['text'])\n",
    "vector = vectfidf.fit_transform(data['text'])\n",
    "X_train, X_test, y_train, y_test = train_test_split(vector, data['tag'], test_size=0.3, random_state=69)\n",
    "model = MultinomialNB().fit(X_train, y_train)\n",
    "predicted = model.predict(X_test)\n",
    "print(\"Depois: \")\n",
    "print(classification_report(y_test, predicted))\n",
    "print(\"\\nacc: %f\" % np.mean(predicted == y_test))"
   ]
  },
  {
   "cell_type": "markdown",
   "metadata": {},
   "source": [
    "### R: Não foi possivel observar uma melhora utilizando a classe de tratamento de texto"
   ]
  },
  {
   "cell_type": "markdown",
   "metadata": {},
   "source": [
    "## 3) Utilizando o dataset disposto no portal, faça:"
   ]
  },
  {
   "cell_type": "markdown",
   "metadata": {},
   "source": [
    "### -> extraia o dataset na pasta do notebook\n",
    "### -> crie uma função que leia o conteúdo de cada uma das pastas, amazene num dataframe com duas colunas (review, tag)"
   ]
  },
  {
   "cell_type": "code",
   "execution_count": 202,
   "metadata": {},
   "outputs": [],
   "source": [
    "# resposta 3\n",
    "import os\n",
    "import numpy as np\n",
    "import pandas as pd\n",
    "\n",
    "def read_reviews(directory):\n",
    "    return pd.concat([read_reviews_from_path(os.path.join(directory, 'pos'), 1), read_reviews_from_path(os.path.join(directory, 'neg'), 0)]).reset_index(drop = True)\n",
    "\n",
    "def read_reviews_from_path(directory, tag, review_column = 'review', tag_column = 'tag'):\n",
    "    df = pd.DataFrame({review_column: [], tag_column: []})\n",
    "    for filename in os.listdir(directory):\n",
    "        if filename.endswith(\".txt\"):\n",
    "            f = open(os.path.join(directory, filename))\n",
    "            lines = f.read()\n",
    "            df = df.append({review_column: lines, tag_column: tag}, ignore_index = True)\n",
    "            continue\n",
    "        else:\n",
    "            continue\n",
    "    return df"
   ]
  },
  {
   "cell_type": "code",
   "execution_count": 203,
   "metadata": {},
   "outputs": [],
   "source": [
    "df = read_reviews('txt_sentoken')"
   ]
  },
  {
   "cell_type": "markdown",
   "metadata": {},
   "source": [
    "   ### -> utilize a classe de tratamento de texto criada acima para tratar o texto\n",
    "   ### -> crie um pipeline de classificação de texto (countvectorizer/tfidfvectorizer,divisão em treino/teste,instância de modelo, fit e predict)\n",
    "   ### -> imprima o relatório de classificação\n",
    "   ### -> OBS: teste várias opções de stemming/lemmatizer"
   ]
  },
  {
   "cell_type": "code",
   "execution_count": null,
   "metadata": {},
   "outputs": [],
   "source": [
    "from sklearn.feature_extraction.text import CountVectorizer\n",
    "import nltk\n",
    "from sklearn.model_selection import train_test_split\n",
    "from sklearn.naive_bayes import MultinomialNB\n",
    "from sklearn import metrics \n",
    "from sklearn.metrics import classification_report\n",
    "from sklearn.metrics import confusion_matrix\n",
    "from sklearn.feature_extraction.text import TfidfVectorizer\n",
    "\n",
    "class Pipeline:\n",
    "    \n",
    "    def __init__(self, vectorizer = CountVectorizer(), model = MultinomialNB(), cleaner = CleanText()):\n",
    "        self.vectorizer = vectorizer\n",
    "        self.model = model\n",
    "        self.cleaner = cleaner\n",
    "    def fit(self, X, y, test_size = 0.3):\n",
    "        X = self.cleaner.clean(X)\n",
    "        X = self.vectorizer.fit_transform(X)\n",
    "        X_test, X_train, y_test, y_train = train_test_split(X, y, test_size = test_size, random_state = 69, shuffle = True)\n",
    "        self.model.fit(X_train, y_train)\n",
    "        y_pred = self.predict(X_test)\n",
    "        self.reports(y_test, y_pred)\n",
    "        \n",
    "    def predict(self, X):\n",
    "        return self.model.predict(X)\n",
    "    \n",
    "    def reports(self, y_true, y_pred):\n",
    "        print(\"Classification Report: \\n\")\n",
    "        print(classification_report(y_true, y_pred))\n",
    "        print(\"Confusion Matrix: \\n\")\n",
    "        print(confusion_matrix(y_true, y_pred))"
   ]
  },
  {
   "cell_type": "code",
   "execution_count": null,
   "metadata": {},
   "outputs": [
    {
     "name": "stdout",
     "output_type": "stream",
     "text": [
      "************tf-idf/sem normalizacao***********\n",
      "\n",
      "Classification Report: \n",
      "\n",
      "             precision    recall  f1-score   support\n",
      "\n",
      "        0.0       0.89      0.43      0.58       713\n",
      "        1.0       0.61      0.94      0.74       687\n",
      "\n",
      "avg / total       0.75      0.68      0.66      1400\n",
      "\n",
      "Confusion Matrix: \n",
      "\n",
      "[[305 408]\n",
      " [ 39 648]]\n",
      "**********************************************\n",
      "\n",
      "*************tf-idf/stemmização***************\n",
      "\n"
     ]
    }
   ],
   "source": [
    "print(\"************tf-idf/sem normalizacao***********\\n\")\n",
    "pipeline = Pipeline(vectorizer = TfidfVectorizer())\n",
    "pipeline.fit(df['review'], df['tag'])\n",
    "print(\"**********************************************\\n\")\n",
    "print(\"*************tf-idf/stemmização***************\\n\")\n",
    "pipeline = Pipeline(vectorizer = TfidfVectorizer(), cleaner = CleanText(norm = STEM))\n",
    "pipeline.fit(df['review'], df['tag'])\n",
    "print(\"**********************************************\\n\")\n",
    "print(\"*************tf-idf/lemmatização**************\\n\")\n",
    "pipeline = Pipeline(vectorizer = TfidfVectorizer(), cleaner = CleanText(norm = LEM))\n",
    "pipeline.fit(df['review'], df['tag'])\n",
    "print(\"**********************************************\\n\")\n",
    "print(\"*******count vectorizer/sem normalizacao******\\n\")\n",
    "pipeline = Pipeline(vectorizer = CountVectorizer())\n",
    "pipeline.fit(df['review'], df['tag'])\n",
    "print(\"**********************************************\\n\")\n",
    "print(\"********count vectorizer/stemização***********\\n\")\n",
    "pipeline = Pipeline(vectorizer = CountVectorizer(), cleaner = CleanText(norm = STEM))\n",
    "pipeline.fit(df['review'], df['tag'])\n",
    "print(\"**********************************************\\n\")\n",
    "print(\"********count vectorizer/lemmatização*********\\n\")\n",
    "pipeline = Pipeline(vectorizer = CountVectorizer(), cleaner = CleanText(norm = LEM))\n",
    "pipeline.fit(df['review'], df['tag'])\n",
    "print(\"**********************************************\\n\")"
   ]
  },
  {
   "cell_type": "code",
   "execution_count": null,
   "metadata": {},
   "outputs": [],
   "source": []
  }
 ],
 "metadata": {
  "kernelspec": {
   "display_name": "Python 3",
   "language": "python",
   "name": "python3"
  },
  "language_info": {
   "codemirror_mode": {
    "name": "ipython",
    "version": 3
   },
   "file_extension": ".py",
   "mimetype": "text/x-python",
   "name": "python",
   "nbconvert_exporter": "python",
   "pygments_lexer": "ipython3",
   "version": "3.6.4"
  }
 },
 "nbformat": 4,
 "nbformat_minor": 2
}
