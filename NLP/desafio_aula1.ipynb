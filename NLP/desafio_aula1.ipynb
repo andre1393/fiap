{
 "cells": [
  {
   "cell_type": "markdown",
   "metadata": {},
   "source": [
    "# Desafio - Aula 1"
   ]
  },
  {
   "cell_type": "markdown",
   "metadata": {},
   "source": [
    "### 1) O corretor ortográfico possui uma ressalva: palavra com acento difere de palavra sem acento (cartão != cartao). Crie uma função que remova a acentuação de palavras e corrija adequadamente as palavras. Isso tem que valer tanto para o texto base quando para a frase a ser corrigida.\n",
    "\n",
    "### Dica: dê uma olhada no pacote unidecodedata\n"
   ]
  },
  {
   "cell_type": "code",
   "execution_count": 3,
   "metadata": {},
   "outputs": [],
   "source": [
    "import re\n",
    "import string\n",
    "from collections import Counter\n",
    "\n",
    "class Grammar:\n",
    "    \n",
    "    def __init__(self, dictionary, encoding = 'utf-8'):\n",
    "        palavras = self.words(open(dictionary, encoding = encoding).read())\n",
    "        self.WORDS = Counter(palavras)\n",
    "\n",
    "    def words(self, text): return re.findall(r'\\w+', text.lower())\n",
    "\n",
    "    def P(self, word):\n",
    "        N=sum(self.WORDS.values())\n",
    "        \"Probability of `word`.\"\n",
    "        #print('\\nP(%s): %f' % (word, (self.WORDS[word] / N)))\n",
    "        return self.WORDS[word] / N\n",
    "\n",
    "    def correction(self, word):\n",
    "        #import pdb; pdb.set_trace()\n",
    "        \"Most probable spelling correction for word.\"\n",
    "        word = word.lower()\n",
    "        return max(self.candidates(word), key=self.P)\n",
    "\n",
    "    def candidates(self, word): \n",
    "        \"Generate possible spelling corrections for word.\"\n",
    "        return (self.known([word]) or self.known(self.edits1(word)) or self.known(self.edits2(word)) or [word])\n",
    "\n",
    "    def known(self, words): \n",
    "        \"The subset of `words` that appear in the dictionary of WORDS.\"\n",
    "        #print('\\nknow: ',set(w for w in words if w in WORDS))\n",
    "        return set(w for w in words if w in self.WORDS)\n",
    "\n",
    "    def edits1(self, word):\n",
    "        \"All edits that are one edit away from `word`.\"\n",
    "        letters    = 'abcdefghijklmnopqrstuvwxyz'\n",
    "        splits     = [(word[:i], word[i:])    for i in range(len(word) + 1)]\n",
    "        deletes    = [L + R[1:]               for L, R in splits if R]\n",
    "        transposes = [L + R[1] + R[0] + R[2:] for L, R in splits if len(R)>1]\n",
    "        replaces   = [L + c + R[1:]           for L, R in splits if R for c in letters]\n",
    "        inserts    = [L + c + R               for L, R in splits for c in letters]\n",
    "        #print ('\\nedits1: ', set(deletes + transposes + replaces + inserts))\n",
    "        return set(deletes + transposes + replaces + inserts)\n",
    "\n",
    "    def edits2(self, word): \n",
    "        \"All edits that are two edits away from `word`.\"\n",
    "        return (e2 for e1 in self.edits1(word) for e2 in self.edits1(e1))"
   ]
  },
  {
   "cell_type": "code",
   "execution_count": 2,
   "metadata": {},
   "outputs": [],
   "source": [
    "import unicodedata\n",
    "def strip_accents(s):\n",
    "    return ''.join(c if unicodedata.category(c) != 'Mn' else '' for c in unicodedata.normalize('NFD', s))"
   ]
  },
  {
   "cell_type": "markdown",
   "metadata": {},
   "source": [
    "### 2) Modifique o algoritmo para que ele receba uma frase como input e a retorne corrigida.\n",
    "### Ex: “jogo de futbol” > “jogo de futebol”\n"
   ]
  },
  {
   "cell_type": "code",
   "execution_count": 4,
   "metadata": {},
   "outputs": [
    {
     "name": "stdout",
     "output_type": "stream",
     "text": [
      "embora alex tivesse estudado em escola\n"
     ]
    }
   ],
   "source": [
    "frase = 'embor Alexi Tiveçe estudadu emm eskola'\n",
    "grammar = Grammar('text.txt')\n",
    "frase_corrigida = []\n",
    "for palavra in frase.split(' '):\n",
    "    frase_corrigida.append(grammar.correction(palavra))\n",
    "    \n",
    "print(' '.join(frase_corrigida))"
   ]
  },
  {
   "cell_type": "markdown",
   "metadata": {},
   "source": [
    "### 3) Ajuste o algoritmo do corretor para tratar tanto palavras escritas em maiúscula quanto em minúscula\n"
   ]
  },
  {
   "cell_type": "code",
   "execution_count": 5,
   "metadata": {},
   "outputs": [],
   "source": [
    "# Resolvido no método correction"
   ]
  }
 ],
 "metadata": {
  "kernelspec": {
   "display_name": "Python 3",
   "language": "python",
   "name": "python3"
  },
  "language_info": {
   "codemirror_mode": {
    "name": "ipython",
    "version": 3
   },
   "file_extension": ".py",
   "mimetype": "text/x-python",
   "name": "python",
   "nbconvert_exporter": "python",
   "pygments_lexer": "ipython3",
   "version": "3.6.4"
  }
 },
 "nbformat": 4,
 "nbformat_minor": 2
}
